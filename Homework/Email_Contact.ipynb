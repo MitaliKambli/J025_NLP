{
  "nbformat": 4,
  "nbformat_minor": 0,
  "metadata": {
    "colab": {
      "name": "Email_Contact.ipynb",
      "provenance": [],
      "authorship_tag": "ABX9TyPGCk5MojEtw+c5lJbz12xq",
      "include_colab_link": true
    },
    "kernelspec": {
      "name": "python3",
      "display_name": "Python 3"
    }
  },
  "cells": [
    {
      "cell_type": "markdown",
      "metadata": {
        "id": "view-in-github",
        "colab_type": "text"
      },
      "source": [
        "<a href=\"https://colab.research.google.com/github/MitaliKambli/J025_NLP/blob/master/Homework/Email_Contact.ipynb\" target=\"_parent\"><img src=\"https://colab.research.google.com/assets/colab-badge.svg\" alt=\"Open In Colab\"/></a>"
      ]
    },
    {
      "cell_type": "code",
      "metadata": {
        "id": "SZH2hYQRHWmW",
        "colab_type": "code",
        "colab": {
          "base_uri": "https://localhost:8080/",
          "height": 53
        },
        "outputId": "84acba72-04ed-4be3-d560-30a8b46766ac"
      },
      "source": [
        "import re\n",
        "import nltk\n",
        "#nltk.download('all')\n",
        "\n",
        "string = \"Hans Raj Agrawal Cell: 09440178202 Ph.:0884-2352373 raj.agrawal@gmail.com VITHAL TRADERS CANVASSING AGENTS IN WATERY & DRY COCONUTS Mutha Apartments,Ganjamvari Street, KAKINADA - 533 001,(A.P.nWhere service is the way of life\"\n",
        "\n",
        "def extract_phone_numbers(string):\n",
        "    x = re.sub(\"\\s\", \"9\", string)\n",
        "    r = re.compile(r'(\\d{3}[-\\.\\s]??\\d{3}[-\\.\\s]??\\d{4}|\\(\\d{3}\\)\\s*\\d{3}[-\\.\\s]??\\d{4}|\\d{3}[-\\.\\s]??\\d{4})')\n",
        "    phone_numbers = r.findall(string)\n",
        "    return [re.sub(r'\\D', '', number) for number in phone_numbers]\n",
        "\n",
        "def extract_email_addresses(string):\n",
        "    r = re.compile(r'[\\w\\.-]+@[\\w\\.-]+')\n",
        "    return r.findall(string)\n",
        "\n",
        "numbers = extract_phone_numbers(string)\n",
        "emails = extract_email_addresses(string)\n",
        "print(emails)\n",
        "print(numbers)"
      ],
      "execution_count": 22,
      "outputs": [
        {
          "output_type": "stream",
          "text": [
            "['raj.agrawal@gmail.com']\n",
            "['0944017820', '8842352373']\n"
          ],
          "name": "stdout"
        }
      ]
    }
  ]
}