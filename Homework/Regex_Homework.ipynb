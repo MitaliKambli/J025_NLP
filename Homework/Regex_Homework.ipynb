{
  "nbformat": 4,
  "nbformat_minor": 0,
  "metadata": {
    "colab": {
      "name": "Regex_Homework.ipynb",
      "provenance": [],
      "include_colab_link": true
    },
    "kernelspec": {
      "name": "python3",
      "display_name": "Python 3"
    }
  },
  "cells": [
    {
      "cell_type": "markdown",
      "metadata": {
        "id": "view-in-github",
        "colab_type": "text"
      },
      "source": [
        "<a href=\"https://colab.research.google.com/github/MitaliKambli/J025_NLP/blob/master/Homework/Regex_Homework.ipynb\" target=\"_parent\"><img src=\"https://colab.research.google.com/assets/colab-badge.svg\" alt=\"Open In Colab\"/></a>"
      ]
    },
    {
      "cell_type": "code",
      "metadata": {
        "id": "n0rFAoxKmNuG",
        "colab_type": "code",
        "colab": {
          "base_uri": "https://localhost:8080/",
          "height": 727
        },
        "outputId": "0217c69e-5b12-47e8-a83c-588cd6963e4b"
      },
      "source": [
        "import pandas as pd\n",
        "import urllib, json\n",
        "df=pd.read_json(\"http://snap.stanford.edu/data/amazon/productGraph/categoryFiles/reviews_Office_Products_5.json.gz\",lines=True)\n",
        "print(df.reviewText)\n",
        "\n",
        "import re\n",
        "def re_count(sentence):\n",
        "  d=dict()\n",
        "  sentence = sentence.replace(\"  \", \" \")\n",
        "  a=re.findall(r'\\b(?![bB\\s])\\w+',sentence)\n",
        "  b=re.findall(r'\\b\\w+(?<![gG])\\b',sentence)\n",
        "  #d[\"!starts_b\"]=a\n",
        "  #d[\"!end_g\"]=b\n",
        "  d[\"!start_b_end_g\"]=a+b\n",
        "  return d\n",
        "\n",
        "df['reviewText_wordcount']= df['reviewText'].apply(re_count)\n",
        "df['summary_wordcount']= df['summary'].apply(re_count)\n",
        "pd.set_option('display.max_columns', 30)\n",
        "print(df[['reviewText_wordcount','summary_wordcount']])"
      ],
      "execution_count": 1,
      "outputs": [
        {
          "output_type": "stream",
          "text": [
            "0        I bought my first HP12C in about 1984 or so, a...\n",
            "1        WHY THIS BELATED REVIEW? I feel very obliged t...\n",
            "2        I have an HP 48GX that has been kicking for mo...\n",
            "3        I've started doing more finance stuff recently...\n",
            "4        For simple calculations and discounted cash fl...\n",
            "                               ...                        \n",
            "53253    What I like about this scale is you can power ...\n",
            "53254    This Accuteck ShipPro digital scale works very...\n",
            "53255    I ship a lot of stuff.  I sell small parts, ma...\n",
            "53256    This is a great little scale to have. It can w...\n",
            "53257    When asked to review this scale, I almost decl...\n",
            "Name: reviewText, Length: 53258, dtype: object\n",
            "                                    reviewText_wordcount  \\\n",
            "0      {'!start_b_end_g': ['I', 'my', 'first', 'HP12C...   \n",
            "1      {'!start_b_end_g': ['WHY', 'THIS', 'REVIEW', '...   \n",
            "2      {'!start_b_end_g': ['I', 'have', 'an', 'HP', '...   \n",
            "3      {'!start_b_end_g': ['I', 've', 'started', 'doi...   \n",
            "4      {'!start_b_end_g': ['For', 'simple', 'calculat...   \n",
            "...                                                  ...   \n",
            "53253  {'!start_b_end_g': ['What', 'I', 'like', 'abou...   \n",
            "53254  {'!start_b_end_g': ['This', 'Accuteck', 'ShipP...   \n",
            "53255  {'!start_b_end_g': ['I', 'ship', 'a', 'lot', '...   \n",
            "53256  {'!start_b_end_g': ['This', 'is', 'a', 'great'...   \n",
            "53257  {'!start_b_end_g': ['When', 'asked', 'to', 're...   \n",
            "\n",
            "                                       summary_wordcount  \n",
            "0      {'!start_b_end_g': ['A', 'solid', 'performer',...  \n",
            "1      {'!start_b_end_g': ['Price', 'of', 'GOLD', 'is...  \n",
            "2      {'!start_b_end_g': ['Good', 'functionality', '...  \n",
            "3      {'!start_b_end_g': ['One', 'of', 'the', 'last'...  \n",
            "4      {'!start_b_end_g': ['Still', 'the', 'Still', '...  \n",
            "...                                                  ...  \n",
            "53253  {'!start_b_end_g': ['Portable', 'and', 'very',...  \n",
            "53254  {'!start_b_end_g': ['Accuteck', 'ShipPro', 'Di...  \n",
            "53255  {'!start_b_end_g': ['Extremely', 'accurate', '...  \n",
            "53256  {'!start_b_end_g': ['Fast', 'Easy', 'and', 'Ac...  \n",
            "53257  {'!start_b_end_g': ['Great', 'Value', 'on', 'a...  \n",
            "\n",
            "[53258 rows x 2 columns]\n"
          ],
          "name": "stdout"
        }
      ]
    }
  ]
}