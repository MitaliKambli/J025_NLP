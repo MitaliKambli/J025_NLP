{
  "nbformat": 4,
  "nbformat_minor": 0,
  "metadata": {
    "colab": {
      "name": "Regex_Homework.ipynb",
      "provenance": [],
      "include_colab_link": true
    },
    "kernelspec": {
      "name": "python3",
      "display_name": "Python 3"
    }
  },
  "cells": [
    {
      "cell_type": "markdown",
      "metadata": {
        "id": "view-in-github",
        "colab_type": "text"
      },
      "source": [
        "<a href=\"https://colab.research.google.com/github/MitaliKambli/J025_NLP/blob/master/Homework/Regex_Homework.ipynb\" target=\"_parent\"><img src=\"https://colab.research.google.com/assets/colab-badge.svg\" alt=\"Open In Colab\"/></a>"
      ]
    },
    {
      "cell_type": "code",
      "metadata": {
        "id": "n0rFAoxKmNuG",
        "colab_type": "code",
        "colab": {
          "base_uri": "https://localhost:8080/",
          "height": 363
        },
        "outputId": "2a5be108-698e-4379-d4fa-f39c5f489459"
      },
      "source": [
        "import pandas as pd\n",
        "import urllib, json\n",
        "import re\n",
        "df=pd.read_json(\"http://snap.stanford.edu/data/amazon/productGraph/categoryFiles/reviews_Office_Products_5.json.gz\",lines=True)\n",
        "print(df.head(3))"
      ],
      "execution_count": 32,
      "outputs": [
        {
          "output_type": "stream",
          "text": [
            "       reviewerID        asin      reviewerName helpful  \\\n",
            "0  A32T2H8150OJLU  B00000JBLH               ARH  [3, 4]   \n",
            "1  A3MAFS04ZABRGO  B00000JBLH  Let it Be \"Alan\"  [7, 9]   \n",
            "2  A1F1A0QQP2XVH5  B00000JBLH            Mark B  [3, 3]   \n",
            "\n",
            "                                          reviewText  overall  \\\n",
            "0  I bought my first HP12C in about 1984 or so, a...        5   \n",
            "1  WHY THIS BELATED REVIEW? I feel very obliged t...        5   \n",
            "2  I have an HP 48GX that has been kicking for mo...        2   \n",
            "\n",
            "                                             summary  unixReviewTime  \\\n",
            "0            A solid performer, and long time friend      1094169600   \n",
            "1  Price of GOLD is up, so don't bury the golden ...      1197676800   \n",
            "2   Good functionality, but not durable like old HPs      1293840000   \n",
            "\n",
            "    reviewTime  \n",
            "0   09 3, 2004  \n",
            "1  12 15, 2007  \n",
            "2   01 1, 2011  \n"
          ],
          "name": "stdout"
        }
      ]
    },
    {
      "cell_type": "code",
      "metadata": {
        "id": "thg_FyxxplWZ",
        "colab_type": "code",
        "colab": {
          "base_uri": "https://localhost:8080/",
          "height": 508
        },
        "outputId": "42bc11df-7045-4cb3-9544-25fb799d26ee"
      },
      "source": [
        "def startnotb(sentence):\n",
        "  d=dict()\n",
        "  sentence = sentence.replace(\"  \", \" \")\n",
        "  d=re.findall(r'\\b(?![bB\\s])\\w+',sentence)\n",
        "  return d\n",
        "\n",
        "df['reviewText_startnotb']= df['reviewText'].apply(startnotb)\n",
        "df['summary_startnotb']= df['summary'].apply(startnotb)\n",
        "pd.set_option('display.max_columns', 30)\n",
        "print(df[['reviewText_startnotb','summary_startnotb']])"
      ],
      "execution_count": 34,
      "outputs": [
        {
          "output_type": "stream",
          "text": [
            "                                    reviewText_startnotb  \\\n",
            "0      [I, my, first, HP12C, in, about, 1984, or, so,...   \n",
            "1      [WHY, THIS, REVIEW, I, feel, very, obliged, to...   \n",
            "2      [I, have, an, HP, 48GX, that, has, kicking, fo...   \n",
            "3      [I, ve, started, doing, more, finance, stuff, ...   \n",
            "4      [For, simple, calculations, and, discounted, c...   \n",
            "...                                                  ...   \n",
            "53253  [What, I, like, about, this, scale, is, you, c...   \n",
            "53254  [This, Accuteck, ShipPro, digital, scale, work...   \n",
            "53255  [I, ship, a, lot, of, stuff, I, sell, small, p...   \n",
            "53256  [This, is, a, great, little, scale, to, have, ...   \n",
            "53257  [When, asked, to, review, this, scale, I, almo...   \n",
            "\n",
            "                                       summary_startnotb  \n",
            "0         [A, solid, performer, and, long, time, friend]  \n",
            "1      [Price, of, GOLD, is, up, so, don, t, the, gol...  \n",
            "2      [Good, functionality, not, durable, like, old,...  \n",
            "3      [One, of, the, last, of, an, almost, extinct, ...  \n",
            "4                                           [Still, the]  \n",
            "...                                                  ...  \n",
            "53253               [Portable, and, very, easy, to, use]  \n",
            "53254  [Accuteck, ShipPro, Digital, Postal, Scale, St...  \n",
            "53255  [Extremely, accurate, foolproof, postal, shipp...  \n",
            "53256                        [Fast, Easy, and, Accurate]  \n",
            "53257         [Great, Value, on, a, Good, Postal, Scale]  \n",
            "\n",
            "[53258 rows x 2 columns]\n"
          ],
          "name": "stdout"
        }
      ]
    },
    {
      "cell_type": "code",
      "metadata": {
        "id": "8wRGFFGsplxR",
        "colab_type": "code",
        "colab": {
          "base_uri": "https://localhost:8080/",
          "height": 508
        },
        "outputId": "045816f3-a2b9-4462-d7fb-3a8e30f26315"
      },
      "source": [
        "def endnotg(sentence):\n",
        "  d=dict()\n",
        "  sentence = sentence.replace(\"  \", \" \")\n",
        "  d=re.findall(r'\\b\\w+(?<![gG])\\b',sentence)\n",
        "  return d\n",
        "\n",
        "df['reviewText_endnotg']= df['reviewText'].apply(endnotg)\n",
        "df['summary_endnotg']= df['summary'].apply(endnotg)\n",
        "pd.set_option('display.max_columns', 30)\n",
        "print(df[['reviewText_endnotg','summary_endnotg']])"
      ],
      "execution_count": 35,
      "outputs": [
        {
          "output_type": "stream",
          "text": [
            "                                      reviewText_endnotg  \\\n",
            "0      [I, bought, my, first, HP12C, in, about, 1984,...   \n",
            "1      [WHY, THIS, BELATED, REVIEW, I, feel, very, ob...   \n",
            "2      [I, have, an, HP, 48GX, that, has, been, for, ...   \n",
            "3      [I, ve, started, more, finance, stuff, recentl...   \n",
            "4      [For, simple, calculations, and, discounted, c...   \n",
            "...                                                  ...   \n",
            "53253  [What, I, like, about, this, scale, is, you, c...   \n",
            "53254  [This, Accuteck, ShipPro, digital, scale, work...   \n",
            "53255  [I, ship, a, lot, of, stuff, I, sell, small, p...   \n",
            "53256  [This, is, a, great, little, scale, to, have, ...   \n",
            "53257  [When, asked, to, review, this, scale, I, almo...   \n",
            "\n",
            "                                         summary_endnotg  \n",
            "0               [A, solid, performer, and, time, friend]  \n",
            "1      [Price, of, GOLD, is, up, so, don, t, bury, th...  \n",
            "2      [Good, functionality, but, not, durable, like,...  \n",
            "3      [One, of, the, last, of, an, almost, extinct, ...  \n",
            "4                                     [Still, the, best]  \n",
            "...                                                  ...  \n",
            "53253               [Portable, and, very, easy, to, use]  \n",
            "53254  [Accuteck, ShipPro, Digital, Postal, Scale, St...  \n",
            "53255    [Extremely, accurate, foolproof, postal, scale]  \n",
            "53256                        [Fast, Easy, and, Accurate]  \n",
            "53257         [Great, Value, on, a, Good, Postal, Scale]  \n",
            "\n",
            "[53258 rows x 2 columns]\n"
          ],
          "name": "stdout"
        }
      ]
    },
    {
      "cell_type": "code",
      "metadata": {
        "id": "6U6EF3rOpmAO",
        "colab_type": "code",
        "colab": {
          "base_uri": "https://localhost:8080/",
          "height": 547
        },
        "outputId": "95385094-67c5-4649-f895-aafe1d81456a"
      },
      "source": [
        "def combination(sentence):\n",
        "  d=dict()\n",
        "  sentence = sentence.replace(\"  \", \" \")\n",
        "  a=re.findall(r'\\b(?![bB\\s])\\w+',sentence)\n",
        "  b=re.findall(r'\\b\\w+(?<![gG])\\b',sentence)\n",
        "  d=a+b\n",
        "  return d\n",
        "\n",
        "df['reviewText_combination']= df['reviewText'].apply(combination)\n",
        "df['summary_combination']= df['summary'].apply(combination)\n",
        "print(df.reviewText[0])\n",
        "print(df[['reviewText_combination','summary_combination']])"
      ],
      "execution_count": 37,
      "outputs": [
        {
          "output_type": "stream",
          "text": [
            "I bought my first HP12C in about 1984 or so, and it served me faithfully until 2002 when I lost it while travelling.  I searched for another one to replace it, but found one difficult to come by in my area.  So, I decided to buy up and purchased an HP 49G.  What a mistake!  I know that many people view the HP 49G (now 49G+) as the flagship of the HP line, but for me that was a disaster.The 49G may be powerful, but using it is extremely counterintuitive...and the manual was sketchy at best.  The 12C, on the other hand, does what I need in a way that makes good sense to me.If you are looking for a solid, reliable calculator, the HP12C may be for you.  It's programmable.  It does basic statistics well, and many business applications too.  The manual makes sense; you will be up and running in short order.I'm ready to set my 49G aside and move back to my old friend.  I didn't even have to replace the batteries in well over a decade of use!HP 12C, I'm coming home!\n",
            "                                  reviewText_combination  \\\n",
            "0      [I, my, first, HP12C, in, about, 1984, or, so,...   \n",
            "1      [WHY, THIS, REVIEW, I, feel, very, obliged, to...   \n",
            "2      [I, have, an, HP, 48GX, that, has, kicking, fo...   \n",
            "3      [I, ve, started, doing, more, finance, stuff, ...   \n",
            "4      [For, simple, calculations, and, discounted, c...   \n",
            "...                                                  ...   \n",
            "53253  [What, I, like, about, this, scale, is, you, c...   \n",
            "53254  [This, Accuteck, ShipPro, digital, scale, work...   \n",
            "53255  [I, ship, a, lot, of, stuff, I, sell, small, p...   \n",
            "53256  [This, is, a, great, little, scale, to, have, ...   \n",
            "53257  [When, asked, to, review, this, scale, I, almo...   \n",
            "\n",
            "                                     summary_combination  \n",
            "0      [A, solid, performer, and, long, time, friend,...  \n",
            "1      [Price, of, GOLD, is, up, so, don, t, the, gol...  \n",
            "2      [Good, functionality, not, durable, like, old,...  \n",
            "3      [One, of, the, last, of, an, almost, extinct, ...  \n",
            "4                         [Still, the, Still, the, best]  \n",
            "...                                                  ...  \n",
            "53253  [Portable, and, very, easy, to, use, Portable,...  \n",
            "53254  [Accuteck, ShipPro, Digital, Postal, Scale, St...  \n",
            "53255  [Extremely, accurate, foolproof, postal, shipp...  \n",
            "53256  [Fast, Easy, and, Accurate, Fast, Easy, and, A...  \n",
            "53257  [Great, Value, on, a, Good, Postal, Scale, Gre...  \n",
            "\n",
            "[53258 rows x 2 columns]\n"
          ],
          "name": "stdout"
        }
      ]
    }
  ]
}