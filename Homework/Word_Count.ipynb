{
  "nbformat": 4,
  "nbformat_minor": 0,
  "metadata": {
    "colab": {
      "name": "Word_Count.ipynb",
      "provenance": [],
      "include_colab_link": true
    },
    "kernelspec": {
      "name": "python3",
      "display_name": "Python 3"
    }
  },
  "cells": [
    {
      "cell_type": "markdown",
      "metadata": {
        "id": "view-in-github",
        "colab_type": "text"
      },
      "source": [
        "<a href=\"https://colab.research.google.com/github/MitaliKambli/J025_NLP/blob/master/Homework/Word_Count.ipynb\" target=\"_parent\"><img src=\"https://colab.research.google.com/assets/colab-badge.svg\" alt=\"Open In Colab\"/></a>"
      ]
    },
    {
      "cell_type": "code",
      "metadata": {
        "id": "WomGbOis0VE5",
        "colab_type": "code",
        "colab": {
          "base_uri": "https://localhost:8080/",
          "height": 279
        },
        "outputId": "18d8e411-dc74-4f68-aa02-fbb0407f0df5"
      },
      "source": [
        "def word_count(sentence):\n",
        "  sentence = sentence.split()\n",
        "  ls = []  \n",
        "  for i in sentence:\n",
        "      word_count = sentence.count(i)\n",
        "      ls.append((i,word_count))       \n",
        "  d = dict(ls)\n",
        "  return d\n",
        "\n",
        "import pandas as pd\n",
        "import urllib, json\n",
        "df=pd.read_json(\"http://snap.stanford.edu/data/amazon/productGraph/categoryFiles/reviews_Office_Products_5.json.gz\",lines=True)\n",
        "df['reviewText_wordcount']= df['reviewText'].apply(word_count)\n",
        "df['summary_wordcount']= df['summary'].apply(word_count)\n",
        "print(df[['reviewText_wordcount','summary_wordcount']])\n"
      ],
      "execution_count": 10,
      "outputs": [
        {
          "output_type": "stream",
          "text": [
            "                                    reviewText_wordcount                                  summary_wordcount\n",
            "0      {'I': 7, 'bought': 1, 'my': 4, 'first': 1, 'HP...  {'A': 1, 'solid': 1, 'performer,': 1, 'and': 1...\n",
            "1      {'WHY': 1, 'THIS': 2, 'BELATED': 1, 'REVIEW?':...  {'Price': 1, 'of': 1, 'GOLD': 1, 'is': 1, 'up,...\n",
            "2      {'I': 2, 'have': 2, 'an': 2, 'HP': 3, '48GX': ...  {'Good': 1, 'functionality,': 1, 'but': 1, 'no...\n",
            "3      {'I've': 4, 'started': 1, 'doing': 2, 'more': ...  {'One': 1, 'of': 2, 'the': 1, 'last': 1, 'an':...\n",
            "4      {'For': 1, 'simple': 1, 'calculations': 2, 'an...                  {'Still': 1, 'the': 1, 'best': 1}\n",
            "...                                                  ...                                                ...\n",
            "53253  {'What': 1, 'I': 1, 'like': 1, 'about': 1, 'th...  {'Portable': 1, 'and': 1, 'very': 1, 'easy': 1...\n",
            "53254  {'This': 1, 'Accuteck': 2, 'ShipPro': 2, 'digi...  {'Accuteck': 1, 'ShipPro': 1, 'Digital': 1, 'P...\n",
            "53255  {'I': 6, 'ship': 1, 'a': 10, 'lot': 1, 'of': 7...  {'Extremely': 1, 'accurate,': 1, 'foolproof': ...\n",
            "53256  {'This': 1, 'is': 4, 'a': 5, 'great': 2, 'litt...   {'Fast,': 1, 'Easy': 1, 'and': 1, 'Accurate': 1}\n",
            "53257  {'When': 1, 'asked': 1, 'to': 9, 'review': 1, ...  {'Great': 1, 'Value': 1, 'on': 1, 'a': 1, 'Goo...\n",
            "\n",
            "[53258 rows x 2 columns]\n"
          ],
          "name": "stdout"
        }
      ]
    }
  ]
}