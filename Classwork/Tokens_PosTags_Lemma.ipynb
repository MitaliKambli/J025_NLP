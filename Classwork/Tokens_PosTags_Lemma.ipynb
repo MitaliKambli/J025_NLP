{
  "nbformat": 4,
  "nbformat_minor": 0,
  "metadata": {
    "colab": {
      "name": "Tokens_PosTags_Lemma.ipynb",
      "provenance": [],
      "include_colab_link": true
    },
    "kernelspec": {
      "name": "python3",
      "display_name": "Python 3"
    }
  },
  "cells": [
    {
      "cell_type": "markdown",
      "metadata": {
        "id": "view-in-github",
        "colab_type": "text"
      },
      "source": [
        "<a href=\"https://colab.research.google.com/github/MitaliKambli/J025_NLP/blob/master/Classwork/Tokens_PosTags_Lemma.ipynb\" target=\"_parent\"><img src=\"https://colab.research.google.com/assets/colab-badge.svg\" alt=\"Open In Colab\"/></a>"
      ]
    },
    {
      "cell_type": "code",
      "metadata": {
        "id": "xPMM_fYd45Yk",
        "colab_type": "code",
        "outputId": "8b949563-2557-4823-b15b-88252207999c",
        "colab": {
          "base_uri": "https://localhost:8080/",
          "height": 402
        }
      },
      "source": [
        "from nltk.tokenize import word_tokenize \n",
        "from nltk.stem import WordNetLemmatizer \n",
        "import nltk\n",
        "nltk.download('punkt')\n",
        "nltk.download('wordnet')\n",
        "nltk.download('averaged_perceptron_tagger')\n",
        "import pandas as pd\n",
        "import urllib, json\n",
        "df=pd.read_json(\"http://snap.stanford.edu/data/amazon/productGraph/categoryFiles/reviews_Office_Products_5.json.gz\",lines=True)\n",
        "df=df.head(10)\n",
        "print(df)"
      ],
      "execution_count": 78,
      "outputs": [
        {
          "output_type": "stream",
          "text": [
            "[nltk_data] Downloading package punkt to /root/nltk_data...\n",
            "[nltk_data]   Package punkt is already up-to-date!\n",
            "[nltk_data] Downloading package wordnet to /root/nltk_data...\n",
            "[nltk_data]   Package wordnet is already up-to-date!\n",
            "[nltk_data] Downloading package averaged_perceptron_tagger to\n",
            "[nltk_data]     /root/nltk_data...\n",
            "[nltk_data]   Package averaged_perceptron_tagger is already up-to-\n",
            "[nltk_data]       date!\n",
            "       reviewerID        asin  ... unixReviewTime   reviewTime\n",
            "0  A32T2H8150OJLU  B00000JBLH  ...     1094169600   09 3, 2004\n",
            "1  A3MAFS04ZABRGO  B00000JBLH  ...     1197676800  12 15, 2007\n",
            "2  A1F1A0QQP2XVH5  B00000JBLH  ...     1293840000   01 1, 2011\n",
            "3   A49R5DBXXQDE5  B00000JBLH  ...     1145404800  04 19, 2006\n",
            "4  A2XRMQA6PJ5ZJ8  B00000JBLH  ...     1375574400   08 4, 2013\n",
            "5  A2JFOHC9W629IE  B00000JBLH  ...     1011744000  01 23, 2002\n",
            "6  A38NELQT98S4H8  B00000JBLH  ...     1168992000  01 17, 2007\n",
            "7   AA8M6331NI1EN  B00000JBLH  ...     1384387200  11 14, 2013\n",
            "8  A25C2M3QF9G7OQ  B00000JBLU  ...     1291680000   12 7, 2010\n",
            "9  A1RTVWTWZSIC94  B00000JBLU  ...     1385942400   12 2, 2013\n",
            "\n",
            "[10 rows x 9 columns]\n"
          ],
          "name": "stdout"
        }
      ]
    },
    {
      "cell_type": "code",
      "metadata": {
        "id": "t1bIDv5vEow_",
        "colab_type": "code",
        "outputId": "19c4c816-5a01-4383-e6c8-59d423588276",
        "colab": {
          "base_uri": "https://localhost:8080/",
          "height": 218
        }
      },
      "source": [
        "def nltk_token(sentence):\n",
        "  tokens=dict()\n",
        "  tokens = word_tokenize(sentence)\n",
        "  return tokens\n",
        "\n",
        "df['reviewText_tokens']= df['reviewText'].apply(nltk_token)\n",
        "print(df[\"reviewText_tokens\"])"
      ],
      "execution_count": 79,
      "outputs": [
        {
          "output_type": "stream",
          "text": [
            "0    [I, bought, my, first, HP12C, in, about, 1984,...\n",
            "1    [WHY, THIS, BELATED, REVIEW, ?, I, feel, very,...\n",
            "2    [I, have, an, HP, 48GX, that, has, been, kicki...\n",
            "3    [I, 've, started, doing, more, finance, stuff,...\n",
            "4    [For, simple, calculations, and, discounted, c...\n",
            "5    [While, I, do, n't, have, an, MBA, ,, it, 's, ...\n",
            "6    [I, 've, had, an, HP, 12C, ever, since, they, ...\n",
            "7    [Bought, this, for, my, boss, because, he, los...\n",
            "8    [This, is, a, well-designed, ,, simple, calcul...\n",
            "9    [I, love, this, calculator, ,, big, numbers, a...\n",
            "Name: reviewText_tokens, dtype: object\n"
          ],
          "name": "stdout"
        }
      ]
    },
    {
      "cell_type": "code",
      "metadata": {
        "id": "t3Xw7x6YXYnm",
        "colab_type": "code",
        "outputId": "1b6ae3fb-03a2-40ef-db48-519911644944",
        "colab": {
          "base_uri": "https://localhost:8080/",
          "height": 218
        }
      },
      "source": [
        "from nltk.tokenize import MWETokenizer\n",
        "tokenizer = MWETokenizer()\n",
        "\n",
        "def mwe_token(sentence):\n",
        "  Mwe=dict()\n",
        "  Mwe[\"MWE_tokens\"]=tokenizer.tokenize(sentence)\n",
        "  return Mwe\n",
        "\n",
        "df['reviewText_mweTokens']= df['reviewText'].apply(mwe_token)\n",
        "print(df[\"reviewText_mweTokens\"])"
      ],
      "execution_count": 80,
      "outputs": [
        {
          "output_type": "stream",
          "text": [
            "0    {'MWE_tokens': ['I', ' ', 'b', 'o', 'u', 'g', ...\n",
            "1    {'MWE_tokens': ['W', 'H', 'Y', ' ', 'T', 'H', ...\n",
            "2    {'MWE_tokens': ['I', ' ', 'h', 'a', 'v', 'e', ...\n",
            "3    {'MWE_tokens': ['I', ''', 'v', 'e', ' ', 's', ...\n",
            "4    {'MWE_tokens': ['F', 'o', 'r', ' ', 's', 'i', ...\n",
            "5    {'MWE_tokens': ['W', 'h', 'i', 'l', 'e', ' ', ...\n",
            "6    {'MWE_tokens': ['I', ''', 'v', 'e', ' ', 'h', ...\n",
            "7    {'MWE_tokens': ['B', 'o', 'u', 'g', 'h', 't', ...\n",
            "8    {'MWE_tokens': ['T', 'h', 'i', 's', ' ', 'i', ...\n",
            "9    {'MWE_tokens': ['I', ' ', 'l', 'o', 'v', 'e', ...\n",
            "Name: reviewText_mweTokens, dtype: object\n"
          ],
          "name": "stdout"
        }
      ]
    },
    {
      "cell_type": "code",
      "metadata": {
        "id": "BHp3Fr9TEuHs",
        "colab_type": "code",
        "outputId": "3e0f45d3-6b85-44b9-b1f4-908d1858a7d5",
        "colab": {
          "base_uri": "https://localhost:8080/",
          "height": 218
        }
      },
      "source": [
        "def nltk_postag(sentence):\n",
        "  pos_t=dict()\n",
        "  pos_t=nltk.pos_tag(nltk.word_tokenize(sentence))  \n",
        "  return pos_t\n",
        "\n",
        "df['reviewText_postntag']= df['reviewText'].apply(nltk_postag)\n",
        "print(df[\"reviewText_postntag\"])"
      ],
      "execution_count": 81,
      "outputs": [
        {
          "output_type": "stream",
          "text": [
            "0    [(I, PRP), (bought, VBD), (my, PRP$), (first, ...\n",
            "1    [(WHY, WRB), (THIS, NNP), (BELATED, NNP), (REV...\n",
            "2    [(I, PRP), (have, VBP), (an, DT), (HP, NNP), (...\n",
            "3    [(I, PRP), ('ve, VBP), (started, VBN), (doing,...\n",
            "4    [(For, IN), (simple, JJ), (calculations, NNS),...\n",
            "5    [(While, IN), (I, PRP), (do, VBP), (n't, RB), ...\n",
            "6    [(I, PRP), ('ve, VBP), (had, VBD), (an, DT), (...\n",
            "7    [(Bought, NNP), (this, DT), (for, IN), (my, PR...\n",
            "8    [(This, DT), (is, VBZ), (a, DT), (well-designe...\n",
            "9    [(I, PRP), (love, VBP), (this, DT), (calculato...\n",
            "Name: reviewText_postntag, dtype: object\n"
          ],
          "name": "stdout"
        }
      ]
    },
    {
      "cell_type": "code",
      "metadata": {
        "id": "8lecA0FZGd9N",
        "colab_type": "code",
        "outputId": "b7c5267f-c22e-4fa8-b441-003e14e94ca0",
        "colab": {
          "base_uri": "https://localhost:8080/",
          "height": 163
        }
      },
      "source": [
        "!pip install pywsd\n",
        "from pywsd.utils import lemmatize_sentence"
      ],
      "execution_count": 0,
      "outputs": [
        {
          "output_type": "stream",
          "text": [
            "Requirement already satisfied: pywsd in /usr/local/lib/python3.6/dist-packages (1.2.4)\n",
            "Requirement already satisfied: six in /usr/local/lib/python3.6/dist-packages (from pywsd) (1.12.0)\n",
            "Requirement already satisfied: pandas in /usr/local/lib/python3.6/dist-packages (from pywsd) (0.25.3)\n",
            "Requirement already satisfied: numpy in /usr/local/lib/python3.6/dist-packages (from pywsd) (1.17.4)\n",
            "Requirement already satisfied: wn in /usr/local/lib/python3.6/dist-packages (from pywsd) (0.0.22)\n",
            "Requirement already satisfied: nltk in /usr/local/lib/python3.6/dist-packages (from pywsd) (3.2.5)\n",
            "Requirement already satisfied: python-dateutil>=2.6.1 in /usr/local/lib/python3.6/dist-packages (from pandas->pywsd) (2.6.1)\n",
            "Requirement already satisfied: pytz>=2017.2 in /usr/local/lib/python3.6/dist-packages (from pandas->pywsd) (2018.9)\n"
          ],
          "name": "stdout"
        }
      ]
    },
    {
      "cell_type": "code",
      "metadata": {
        "id": "bweFloCUHBDt",
        "colab_type": "code",
        "outputId": "22d39f9b-7348-4b25-b2ad-512f2b37a662",
        "colab": {
          "base_uri": "https://localhost:8080/",
          "height": 218
        }
      },
      "source": [
        "def nltk_lemma(sentence):\n",
        "  lemma=dict()\n",
        "  lemma=lemmatize_sentence(sentence)\n",
        "  return lemma\n",
        "\n",
        "df['reviewText_lemma']= df['reviewText'].apply(nltk_lemma)\n",
        "print(df[\"reviewText_lemma\"])"
      ],
      "execution_count": 82,
      "outputs": [
        {
          "output_type": "stream",
          "text": [
            "0    [i, buy, my, first, hp12c, in, about, 1984, or...\n",
            "1    [why, this, belated, review, ?, i, feel, very,...\n",
            "2    [i, have, an, hp, 48gx, that, have, be, kick, ...\n",
            "3    [i, 've, start, do, more, finance, stuff, rece...\n",
            "4    [for, simple, calculation, and, discount, cash...\n",
            "5    [while, i, do, n't, have, an, mba, ,, it, 's, ...\n",
            "6    [i, 've, have, an, hp, 12c, ever, since, they,...\n",
            "7    [bought, this, for, my, bos, because, he, lose...\n",
            "8    [this, be, a, well-designed, ,, simple, calcul...\n",
            "9    [i, love, this, calculator, ,, big, number, an...\n",
            "Name: reviewText_lemma, dtype: object\n"
          ],
          "name": "stdout"
        }
      ]
    },
    {
      "cell_type": "code",
      "metadata": {
        "id": "MWo_AQCXKE4x",
        "colab_type": "code",
        "outputId": "664fa944-0b90-49f3-ce32-2e17156f5c4d",
        "colab": {
          "base_uri": "https://localhost:8080/",
          "height": 218
        }
      },
      "source": [
        "def nltk_adjectives(sentence):\n",
        "  adjectives=dict()\n",
        "  adjectives = [token for token, pos in nltk.pos_tag(word_tokenize(sentence)) if pos.startswith('J')]\n",
        "  return adjectives\n",
        "\n",
        "df['reviewText_adjectives']= df['reviewText'].apply(nltk_adjectives)\n",
        "print(df[\"reviewText_adjectives\"])"
      ],
      "execution_count": 83,
      "outputs": [
        {
          "output_type": "stream",
          "text": [
            "0    [first, difficult, many, disaster.The, powerfu...\n",
            "1    [old, satisfied, ower, frank, non-techkie, syn...\n",
            "2    [more, more, old, flawless, overall, new, chea...\n",
            "3    [more, good, available, great, long-lasting, t...\n",
            "4    [simple, best, financial, complex, quick, Reve...\n",
            "5    [hard, undergraduate, quick, financial, financ...\n",
            "6    [available, original, essential, financial, fe...\n",
            "7                                      [great, little]\n",
            "8    [well-designed, simple, typical, four-function...\n",
            "9                       [big, calculate, easy, easier]\n",
            "Name: reviewText_adjectives, dtype: object\n"
          ],
          "name": "stdout"
        }
      ]
    }
  ]
}