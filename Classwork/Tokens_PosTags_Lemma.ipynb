{
  "nbformat": 4,
  "nbformat_minor": 0,
  "metadata": {
    "colab": {
      "name": "Tokens_PosTags_Lemma.ipynb",
      "provenance": [],
      "include_colab_link": true
    },
    "kernelspec": {
      "name": "python3",
      "display_name": "Python 3"
    }
  },
  "cells": [
    {
      "cell_type": "markdown",
      "metadata": {
        "id": "view-in-github",
        "colab_type": "text"
      },
      "source": [
        "<a href=\"https://colab.research.google.com/github/MitaliKambli/J025_NLP/blob/master/Classwork/Tokens_PosTags_Lemma.ipynb\" target=\"_parent\"><img src=\"https://colab.research.google.com/assets/colab-badge.svg\" alt=\"Open In Colab\"/></a>"
      ]
    },
    {
      "cell_type": "code",
      "metadata": {
        "id": "xPMM_fYd45Yk",
        "colab_type": "code",
        "outputId": "8469a104-d2a9-430a-8260-24a9e1fc2ecc",
        "colab": {
          "base_uri": "https://localhost:8080/",
          "height": 417
        }
      },
      "source": [
        "from nltk.tokenize import word_tokenize \n",
        "from nltk.stem import WordNetLemmatizer \n",
        "import nltk\n",
        "nltk.download('punkt')\n",
        "nltk.download('wordnet')\n",
        "nltk.download('averaged_perceptron_tagger')\n",
        "import pandas as pd\n",
        "import urllib, json\n",
        "df=pd.read_json(\"http://snap.stanford.edu/data/amazon/productGraph/categoryFiles/reviews_Office_Products_5.json.gz\",lines=True)\n",
        "#df=df.head(10)\n",
        "print(df)"
      ],
      "execution_count": 0,
      "outputs": [
        {
          "output_type": "stream",
          "text": [
            "[nltk_data] Downloading package punkt to /root/nltk_data...\n",
            "[nltk_data]   Package punkt is already up-to-date!\n",
            "[nltk_data] Downloading package wordnet to /root/nltk_data...\n",
            "[nltk_data]   Package wordnet is already up-to-date!\n",
            "[nltk_data] Downloading package averaged_perceptron_tagger to\n",
            "[nltk_data]     /root/nltk_data...\n",
            "[nltk_data]   Package averaged_perceptron_tagger is already up-to-\n",
            "[nltk_data]       date!\n",
            "           reviewerID        asin  ... unixReviewTime   reviewTime\n",
            "0      A32T2H8150OJLU  B00000JBLH  ...     1094169600   09 3, 2004\n",
            "1      A3MAFS04ZABRGO  B00000JBLH  ...     1197676800  12 15, 2007\n",
            "2      A1F1A0QQP2XVH5  B00000JBLH  ...     1293840000   01 1, 2011\n",
            "3       A49R5DBXXQDE5  B00000JBLH  ...     1145404800  04 19, 2006\n",
            "4      A2XRMQA6PJ5ZJ8  B00000JBLH  ...     1375574400   08 4, 2013\n",
            "...               ...         ...  ...            ...          ...\n",
            "53253  A1ODOGXEYECQQ8  B00KYA0RC2  ...     1405555200  07 17, 2014\n",
            "53254  A2XX2A4OJCDNLZ  B00KYA0RC2  ...     1405296000  07 14, 2014\n",
            "53255  A3LGT6UZL99IW1  B00KYA0RC2  ...     1405468800  07 16, 2014\n",
            "53256  A1XJOSJN6FHFO0  B00KYA0RC2  ...     1405814400  07 20, 2014\n",
            "53257   AAEVGE52KL0DJ  B00KYA0RC2  ...     1404604800   07 6, 2014\n",
            "\n",
            "[53258 rows x 9 columns]\n"
          ],
          "name": "stdout"
        }
      ]
    },
    {
      "cell_type": "code",
      "metadata": {
        "id": "t1bIDv5vEow_",
        "colab_type": "code",
        "outputId": "130487ad-81ec-449f-fca3-b208ca08a558",
        "colab": {
          "base_uri": "https://localhost:8080/",
          "height": 235
        }
      },
      "source": [
        "def nltk_token(sentence):\n",
        "  tokens=dict()\n",
        "  tokens = word_tokenize(sentence)\n",
        "  return tokens\n",
        "\n",
        "df['reviewText_tokens']= df['reviewText'].apply(nltk_token)\n",
        "print(df[\"reviewText_tokens\"])"
      ],
      "execution_count": 0,
      "outputs": [
        {
          "output_type": "stream",
          "text": [
            "0        [I, bought, my, first, HP12C, in, about, 1984,...\n",
            "1        [WHY, THIS, BELATED, REVIEW, ?, I, feel, very,...\n",
            "2        [I, have, an, HP, 48GX, that, has, been, kicki...\n",
            "3        [I, 've, started, doing, more, finance, stuff,...\n",
            "4        [For, simple, calculations, and, discounted, c...\n",
            "                               ...                        \n",
            "53253    [What, I, like, about, this, scale, is, you, c...\n",
            "53254    [This, Accuteck, ShipPro, digital, scale, work...\n",
            "53255    [I, ship, a, lot, of, stuff, ., I, sell, small...\n",
            "53256    [This, is, a, great, little, scale, to, have, ...\n",
            "53257    [When, asked, to, review, this, scale, ,, I, a...\n",
            "Name: reviewText_tokens, Length: 53258, dtype: object\n"
          ],
          "name": "stdout"
        }
      ]
    },
    {
      "cell_type": "code",
      "metadata": {
        "id": "t3Xw7x6YXYnm",
        "colab_type": "code",
        "outputId": "0f14e118-3bbd-44e6-db24-9b413497ca85",
        "colab": {
          "base_uri": "https://localhost:8080/",
          "height": 235
        }
      },
      "source": [
        "from nltk.tokenize import MWETokenizer\n",
        "tokenizer = MWETokenizer()\n",
        "\n",
        "def mwe_token(sentence):\n",
        "  Mwe=dict()\n",
        "  Mwe[\"MWE_tokens\"]=tokenizer.tokenize(sentence)\n",
        "  return Mwe\n",
        "\n",
        "df['reviewText_mweTokens']= df['reviewText'].apply(mwe_token)\n",
        "print(df[\"reviewText_mweTokens\"])"
      ],
      "execution_count": 0,
      "outputs": [
        {
          "output_type": "stream",
          "text": [
            "0        {'MWE_tokens': ['I', ' ', 'b', 'o', 'u', 'g', ...\n",
            "1        {'MWE_tokens': ['W', 'H', 'Y', ' ', 'T', 'H', ...\n",
            "2        {'MWE_tokens': ['I', ' ', 'h', 'a', 'v', 'e', ...\n",
            "3        {'MWE_tokens': ['I', ''', 'v', 'e', ' ', 's', ...\n",
            "4        {'MWE_tokens': ['F', 'o', 'r', ' ', 's', 'i', ...\n",
            "                               ...                        \n",
            "53253    {'MWE_tokens': ['W', 'h', 'a', 't', ' ', 'I', ...\n",
            "53254    {'MWE_tokens': ['T', 'h', 'i', 's', ' ', 'A', ...\n",
            "53255    {'MWE_tokens': ['I', ' ', 's', 'h', 'i', 'p', ...\n",
            "53256    {'MWE_tokens': ['T', 'h', 'i', 's', ' ', 'i', ...\n",
            "53257    {'MWE_tokens': ['W', 'h', 'e', 'n', ' ', 'a', ...\n",
            "Name: reviewText_mweTokens, Length: 53258, dtype: object\n"
          ],
          "name": "stdout"
        }
      ]
    },
    {
      "cell_type": "code",
      "metadata": {
        "id": "BHp3Fr9TEuHs",
        "colab_type": "code",
        "outputId": "e913d79f-944a-4c2b-d7c2-72bbe497a054",
        "colab": {
          "base_uri": "https://localhost:8080/",
          "height": 235
        }
      },
      "source": [
        "def nltk_postag(sentence):\n",
        "  pos_t=dict()\n",
        "  pos_t=nltk.pos_tag(nltk.word_tokenize(sentence))  \n",
        "  return pos_t\n",
        "\n",
        "df['reviewText_postntag']= df['reviewText'].apply(nltk_postag)\n",
        "print(df[\"reviewText_postntag\"])"
      ],
      "execution_count": 0,
      "outputs": [
        {
          "output_type": "stream",
          "text": [
            "0        [(I, PRP), (bought, VBD), (my, PRP$), (first, ...\n",
            "1        [(WHY, WRB), (THIS, NNP), (BELATED, NNP), (REV...\n",
            "2        [(I, PRP), (have, VBP), (an, DT), (HP, NNP), (...\n",
            "3        [(I, PRP), ('ve, VBP), (started, VBN), (doing,...\n",
            "4        [(For, IN), (simple, JJ), (calculations, NNS),...\n",
            "                               ...                        \n",
            "53253    [(What, WP), (I, PRP), (like, VBP), (about, IN...\n",
            "53254    [(This, DT), (Accuteck, NNP), (ShipPro, NNP), ...\n",
            "53255    [(I, PRP), (ship, VBP), (a, DT), (lot, NN), (o...\n",
            "53256    [(This, DT), (is, VBZ), (a, DT), (great, JJ), ...\n",
            "53257    [(When, WRB), (asked, VBN), (to, TO), (review,...\n",
            "Name: reviewText_postntag, Length: 53258, dtype: object\n"
          ],
          "name": "stdout"
        }
      ]
    },
    {
      "cell_type": "code",
      "metadata": {
        "id": "8lecA0FZGd9N",
        "colab_type": "code",
        "outputId": "b7c5267f-c22e-4fa8-b441-003e14e94ca0",
        "colab": {
          "base_uri": "https://localhost:8080/",
          "height": 163
        }
      },
      "source": [
        "!pip install pywsd\n",
        "from pywsd.utils import lemmatize_sentence"
      ],
      "execution_count": 0,
      "outputs": [
        {
          "output_type": "stream",
          "text": [
            "Requirement already satisfied: pywsd in /usr/local/lib/python3.6/dist-packages (1.2.4)\n",
            "Requirement already satisfied: six in /usr/local/lib/python3.6/dist-packages (from pywsd) (1.12.0)\n",
            "Requirement already satisfied: pandas in /usr/local/lib/python3.6/dist-packages (from pywsd) (0.25.3)\n",
            "Requirement already satisfied: numpy in /usr/local/lib/python3.6/dist-packages (from pywsd) (1.17.4)\n",
            "Requirement already satisfied: wn in /usr/local/lib/python3.6/dist-packages (from pywsd) (0.0.22)\n",
            "Requirement already satisfied: nltk in /usr/local/lib/python3.6/dist-packages (from pywsd) (3.2.5)\n",
            "Requirement already satisfied: python-dateutil>=2.6.1 in /usr/local/lib/python3.6/dist-packages (from pandas->pywsd) (2.6.1)\n",
            "Requirement already satisfied: pytz>=2017.2 in /usr/local/lib/python3.6/dist-packages (from pandas->pywsd) (2018.9)\n"
          ],
          "name": "stdout"
        }
      ]
    },
    {
      "cell_type": "code",
      "metadata": {
        "id": "bweFloCUHBDt",
        "colab_type": "code",
        "colab": {
          "base_uri": "https://localhost:8080/",
          "height": 237
        },
        "outputId": "5d4ad567-975f-45af-d043-a981542633a5"
      },
      "source": [
        "def nltk_lemma(sentence):\n",
        "  lemma=dict()\n",
        "  lemma=lemmatize_sentence(sentence)\n",
        "  return lemma\n",
        "\n",
        "df['reviewText_lemma']= df['reviewText'].apply(nltk_lemma)\n",
        "print(df[\"reviewText_lemma\"])"
      ],
      "execution_count": 76,
      "outputs": [
        {
          "output_type": "stream",
          "text": [
            "0        [i, buy, my, first, hp12c, in, about, 1984, or...\n",
            "1        [why, this, belated, review, ?, i, feel, very,...\n",
            "2        [i, have, an, hp, 48gx, that, have, be, kick, ...\n",
            "3        [i, 've, start, do, more, finance, stuff, rece...\n",
            "4        [for, simple, calculation, and, discount, cash...\n",
            "                               ...                        \n",
            "53253    [what, i, like, about, this, scale, be, you, c...\n",
            "53254    [this, accuteck, shippro, digital, scale, work...\n",
            "53255    [i, ship, a, lot, of, stuff, ., i, sell, small...\n",
            "53256    [this, be, a, great, little, scale, to, have, ...\n",
            "53257    [when, ask, to, review, this, scale, ,, i, alm...\n",
            "Name: reviewText_lemma, Length: 53258, dtype: object\n"
          ],
          "name": "stdout"
        }
      ]
    },
    {
      "cell_type": "code",
      "metadata": {
        "id": "MWo_AQCXKE4x",
        "colab_type": "code",
        "colab": {}
      },
      "source": [
        "def nltk_adjectives(sentence):\n",
        "  adjectives=dict()\n",
        "  adjectives = [token for token, pos in nltk.pos_tag(word_tokenize(sentence)) if pos.startswith('J')]\n",
        "  return adjectives\n",
        "\n",
        "df['reviewText_adjectives']= df['reviewText'].apply(nltk_adjectives)\n",
        "print(df[\"reviewText_adjectives\"])"
      ],
      "execution_count": 0,
      "outputs": []
    }
  ]
}