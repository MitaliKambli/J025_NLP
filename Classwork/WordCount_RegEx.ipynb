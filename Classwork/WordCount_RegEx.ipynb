{
  "nbformat": 4,
  "nbformat_minor": 0,
  "metadata": {
    "colab": {
      "name": "WordCount_RegEx.ipynb",
      "provenance": [],
      "include_colab_link": true
    },
    "kernelspec": {
      "name": "python3",
      "display_name": "Python 3"
    }
  },
  "cells": [
    {
      "cell_type": "markdown",
      "metadata": {
        "id": "view-in-github",
        "colab_type": "text"
      },
      "source": [
        "<a href=\"https://colab.research.google.com/github/MitaliKambli/J025_NLP/blob/master/Classwork/WordCount_RegEx.ipynb\" target=\"_parent\"><img src=\"https://colab.research.google.com/assets/colab-badge.svg\" alt=\"Open In Colab\"/></a>"
      ]
    },
    {
      "cell_type": "code",
      "metadata": {
        "id": "aTzxprh9ifMm",
        "colab_type": "code",
        "colab": {}
      },
      "source": [
        "import pandas as pd\n",
        "import urllib, json\n",
        "df=pd.read_json(\"http://snap.stanford.edu/data/amazon/productGraph/categoryFiles/reviews_Office_Products_5.json.gz\",lines=True)\n"
      ],
      "execution_count": 0,
      "outputs": []
    },
    {
      "cell_type": "code",
      "metadata": {
        "id": "WuAOdGzzk1Ei",
        "colab_type": "code",
        "colab": {
          "base_uri": "https://localhost:8080/",
          "height": 522
        },
        "outputId": "f8ede180-90f8-460d-8064-6eba618bf6ee"
      },
      "source": [
        "vowels = [\"a\",\"e\",\"i\",\"o\",\"u\"]\n",
        "consonants=['b', 'c', 'd', 'f', 'g', 'h', 'j', 'k', 'l', 'm', 'n', 'p', 'q', 'r', 's', 't', 'v', 'w', 'x', 'y', 'z']\n",
        "punctuation=['''!()-[]{};:'\"\\,<>./?@#$%^&*_~''']\n",
        "\n",
        "def char_count(sentence):\n",
        "  sentence=sentence.lower()\n",
        "  count=dict()\n",
        "  count_c = 0\n",
        "  count_v = 0 \n",
        "  res = len(sentence.split())\n",
        "  for x in sentence:\n",
        "    if x in punctuation:\n",
        "      sentence = sentence.replace(x, \" \")\n",
        "    if x in vowels:\n",
        "      count_v += 1\n",
        "    if x in consonants:\n",
        "      count_c += 1\n",
        "    word_count = str(res)     \n",
        "    count[\"vowel\"]=count_v\n",
        "    count[\"consonant\"]=count_c\n",
        "    count[\"word_count\"]=word_count\n",
        "  return (count)  \n",
        "df['reviewText_wordcount']= df['reviewText'].apply(char_count)\n",
        "df['summary_wordcount']= df['summary'].apply(char_count)\n",
        "print(df[['reviewText_wordcount','summary_wordcount']])"
      ],
      "execution_count": 20,
      "outputs": [
        {
          "output_type": "stream",
          "text": [
            "                                    reviewText_wordcount  \\\n",
            "0      {'vowel': 279, 'consonant': 437, 'word_count':...   \n",
            "1      {'vowel': 1504, 'consonant': 2685, 'word_count...   \n",
            "2      {'vowel': 134, 'consonant': 235, 'word_count':...   \n",
            "3      {'vowel': 1089, 'consonant': 1775, 'word_count...   \n",
            "4      {'vowel': 208, 'consonant': 338, 'word_count':...   \n",
            "...                                                  ...   \n",
            "53253  {'vowel': 236, 'consonant': 358, 'word_count':...   \n",
            "53254  {'vowel': 839, 'consonant': 1308, 'word_count'...   \n",
            "53255  {'vowel': 422, 'consonant': 693, 'word_count':...   \n",
            "53256  {'vowel': 232, 'consonant': 335, 'word_count':...   \n",
            "53257  {'vowel': 582, 'consonant': 901, 'word_count':...   \n",
            "\n",
            "                                       summary_wordcount  \n",
            "0      {'vowel': 12, 'consonant': 20, 'word_count': '7'}  \n",
            "1      {'vowel': 14, 'consonant': 31, 'word_count': '...  \n",
            "2      {'vowel': 15, 'consonant': 25, 'word_count': '8'}  \n",
            "3      {'vowel': 14, 'consonant': 22, 'word_count': '9'}  \n",
            "4        {'vowel': 3, 'consonant': 9, 'word_count': '3'}  \n",
            "...                                                  ...  \n",
            "53253  {'vowel': 10, 'consonant': 14, 'word_count': '6'}  \n",
            "53254  {'vowel': 32, 'consonant': 52, 'word_count': '...  \n",
            "53255  {'vowel': 17, 'consonant': 28, 'word_count': '5'}  \n",
            "53256   {'vowel': 8, 'consonant': 11, 'word_count': '4'}  \n",
            "53257  {'vowel': 13, 'consonant': 15, 'word_count': '7'}  \n",
            "\n",
            "[53258 rows x 2 columns]\n"
          ],
          "name": "stdout"
        }
      ]
    },
    {
      "cell_type": "code",
      "metadata": {
        "id": "Y2APd34Hv89v",
        "colab_type": "code",
        "colab": {
          "base_uri": "https://localhost:8080/",
          "height": 241
        },
        "outputId": "27d63d49-3962-4533-daf4-cc295b6d6ccb"
      },
      "source": [
        "import re\n",
        "def re_count(sentence):\n",
        "  d=dict()\n",
        "  a=re.findall(r'\\b[bB]\\w+',sentence)\n",
        "  b=re.findall(r'\\w+[gG]\\b',sentence)\n",
        "  d[\"starts_b\"]=a\n",
        "  d[\"end_g\"]=b\n",
        "  d[\"start_b_end_g\"]=set(a).intersection(set(b))\n",
        "  return d\n",
        "\n",
        "df['reviewText_wordcount']= df['reviewText'].apply(re_count)\n",
        "df['summary_wordcount']= df['summary'].apply(re_count)\n",
        "pd.set_option('display.max_columns', 30)\n",
        "print(df['reviewText_wordcount'])\n",
        "\n"
      ],
      "execution_count": 19,
      "outputs": [
        {
          "output_type": "stream",
          "text": [
            "0        {'starts_b': ['bought', 'but', 'by', 'buy', 'b...\n",
            "1        {'starts_b': ['BELATED', 'burying', 'brandname...\n",
            "2        {'starts_b': ['been', 'But'], 'end_g': ['kicki...\n",
            "3        {'starts_b': ['been', 'because', 'but', 'buy',...\n",
            "4        {'starts_b': ['best', 'business', 'but', 'be',...\n",
            "                               ...                        \n",
            "53253    {'starts_b': ['by', 'batteries', 'batteries', ...\n",
            "53254    {'starts_b': ['based', 'best', 'but', 'be', 'b...\n",
            "53255    {'starts_b': ['box', 'between', 'been', 'by', ...\n",
            "53256    {'starts_b': ['books', 'batteries', 'buttons']...\n",
            "53257    {'starts_b': ['because', 'business', 'between'...\n",
            "Name: reviewText_wordcount, Length: 53258, dtype: object\n"
          ],
          "name": "stdout"
        }
      ]
    }
  ]
}