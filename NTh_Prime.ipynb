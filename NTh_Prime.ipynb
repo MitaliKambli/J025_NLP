{
  "nbformat": 4,
  "nbformat_minor": 0,
  "metadata": {
    "colab": {
      "name": "NTh_Prime.ipynb",
      "provenance": [],
      "include_colab_link": true
    },
    "kernelspec": {
      "name": "python3",
      "display_name": "Python 3"
    }
  },
  "cells": [
    {
      "cell_type": "markdown",
      "metadata": {
        "id": "view-in-github",
        "colab_type": "text"
      },
      "source": [
        "<a href=\"https://colab.research.google.com/github/MitaliKambli/J025_NLP/blob/master/NTh_Prime.ipynb\" target=\"_parent\"><img src=\"https://colab.research.google.com/assets/colab-badge.svg\" alt=\"Open In Colab\"/></a>"
      ]
    },
    {
      "cell_type": "code",
      "metadata": {
        "id": "XE2TJx8jq_Fv",
        "colab_type": "code",
        "colab": {
          "base_uri": "https://localhost:8080/",
          "height": 36
        },
        "outputId": "27d9e5f0-7b20-4beb-ad59-dcadecb15cbc"
      },
      "source": [
        "prime_numbers = [2,3]\n",
        "def Nth_prime(n):\n",
        "    i=3\n",
        "    if(0<n<3):\n",
        "        print(n,'th Prime Number is :',prime_numbers[n-1])\n",
        "    elif(n>2):\n",
        "        while (len(prime_numbers)<n):\n",
        "            i+=1\n",
        "            count = 0\n",
        "            for j in range(2,int(i/2)+1):\n",
        "                if(i%j==0):\n",
        "                    count += 1\n",
        "                    break\n",
        "            if(count==0):\n",
        "                prime_numbers.append(i)\n",
        "        print(n,'th Prime Number is :', prime_numbers[n-1])\n",
        "\n",
        "Nth_prime(5)"
      ],
      "execution_count": 2,
      "outputs": [
        {
          "output_type": "stream",
          "text": [
            "5 th Prime Number is : 11\n"
          ],
          "name": "stdout"
        }
      ]
    }
  ]
}